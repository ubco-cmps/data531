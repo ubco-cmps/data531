{
 "cells": [
  {
   "cell_type": "markdown",
   "metadata": {},
   "source": [
    "# DATA 531: Lab 3 - Programming with R"
   ]
  },
  {
   "cell_type": "markdown",
   "metadata": {},
   "source": [
    "****\n",
    "**Name**: FirstName LastName\n",
    "\n",
    "**Date**: September 15, 2020\n",
    "****"
   ]
  },
  {
   "cell_type": "markdown",
   "metadata": {},
   "source": [
    "## Obejctives:\n",
    "\n",
    "- Familiarity writing functions in R\n",
    "- Raw text formatting and Data Cleaning in R \n",
    "- Reading and analysing data from csv files in R"
   ]
  },
  {
   "cell_type": "markdown",
   "metadata": {},
   "source": [
    "## Question #1 - Creating and Calling Functions (15 marks)\n",
    "You must have solved this question by now in **Python**. Today you will implement the same problem in **R**. In this question you will practice how to create and call functions in **R** as well as use docstring to add documentation to the function so that it's readable by everyone.\n",
    "\n",
    "### Problem statement: \n",
    "Create a Python program that creates and calls a function for calculating the average of a list of values. Details:\n",
    "\n",
    "- Create function with name `avglist` that accepts three parameters: **(1 mark)**\n",
    "    - lst - list of numbers\n",
    "    - low - miminum value (not inclusive). Default = 0\n",
    "    - high - maximum value (not inclusive). Default = 100\n",
    "- Function will calculate and return the average of all values in the range (low, high). **(3 marks)**\n",
    "- Function should have a docstring as shown in output. *Hint: use [`docstring`](https://cran.r-project.org/web/packages/docstring/vignettes/docstring_intro.html) package in R* **(3 mark)**\n",
    "- Call `docstring(avglist)` to display function information. **(1 marks)**\n",
    "- Generate a *sequence* of numbers from 1 to 10 and call avglist() with default range and print result. **(2 mark)**\n",
    "- Generate a *sequence* of numbers from 1 to 100 and call avglist() with range (20, 80) and print result. **(2 mark)**\n",
    "- Generate a *sequence* of 100 random numbers between 1 and 100 and call avglist() with range (30, 100) and print the result. *Hint: Use [sample](http://www.rexamples.com/14/Sample()) function to generate the random integers.* **(3 marks)**"
   ]
  },
  {
   "cell_type": "code",
   "execution_count": 1,
   "metadata": {},
   "outputs": [],
   "source": [
    "## your code here"
   ]
  },
  {
   "cell_type": "markdown",
   "metadata": {},
   "source": [
    "## Question #2 - Data Cleaning in R (15 marks)\n",
    "Create an **R** program that cleans the data in string format. Data set in given below:"
   ]
  },
  {
   "cell_type": "code",
   "execution_count": 2,
   "metadata": {},
   "outputs": [],
   "source": [
    "data = \"\"\"5:Joe:35000:1970-08-09\n",
    "4:Steve:49999:1955-01-02\n",
    "1:Leah:154000:1999-06-12\n",
    "3:Sheyanne:255555:1987-05-14\n",
    "2:Matt:24000:1972-11-03\n",
    "7:Kyla:1000000:1950-02-01\n",
    "8:Dave:15000:2000-09-05\n",
    "\"\"\""
   ]
  },
  {
   "cell_type": "markdown",
   "metadata": {},
   "source": [
    "- Use [`strsplit()`](http://rfunction.com/archives/1499) to separate data into rows (one per line). **(1 mark)**\n",
    "\n",
    "- Use a for loop to process each line: **(1 mark)**\n",
    "\n",
    "    - Use `strsplit()` *once again* to divide data into four fields (id, name, salary, birthdate). Output the fields. **(3 marks)**\n",
    "\n",
    "    - Calculate the age using the birthdate and the [system date](https://stat.ethz.ch/R-manual/R-devel/library/base/html/Sys.time.html) using the function [difftime](https://www.datasciencemadesimple.com/get-age-from-date-of-birth-in-r-2/#:~:text=Age%20is%20extracted%20from%20Date_of_birth,by%2052.25%2C%20as%20shown%20below.). Print $age$ along with $id, name, salary, birthdate$. **(3 marks)**\n",
    "\n",
    "- Calculate and print the total number of people, average salary, highest salary, and youngest employee. **(4 marks)**\n",
    "\n",
    "- Use a for loop to process the data set again: **(1 mark)**\n",
    "\n",
    "- Increase the salary by 20% for any employee whose salary < 40000 or has a name that is less than 5 characters long. Print out new and previous salary. **(2 marks)**"
   ]
  },
  {
   "cell_type": "code",
   "execution_count": 1,
   "metadata": {},
   "outputs": [],
   "source": [
    "## your code here"
   ]
  },
  {
   "cell_type": "markdown",
   "metadata": {},
   "source": [
    "## Question #3 - Data Analysis in R (15 marks)\n",
    "Perform data analysis using R with data in a CSV file. Details:\n",
    "\n",
    "- Use **sensor.csv** file. Read the data set into a data frame. Note: You will want to add the parameter stringsAsFactors=FALSE for read.csv. **(1 mark)**\n",
    "- Display the first 5 rows using head. **(1 marks)**\n",
    "- Using substr extract the day information into a numeric vector and add to data frame as column called day. **(1  mark)** Note: Will need as.numeric function.\n",
    "- Using substr extract the time information into a vector and add to data frame as column called time. **(1 mark)**\n",
    "- Display the last 10 rows of the data frame. **(1 marks)**\n",
    "- Create a dataset called sensors_clean that only contains those observations where the value is between 0 and 100 inclusive. Use as.numeric to convert the value column to numbers. **(1 mark)**\n",
    "- Create a list called data_summary that contains the following: **(3 marks)**\n",
    "    - count of valid readings (value within bounds described earlier)\n",
    "    - minimum reading\n",
    "    - mean reading\n",
    "    - range of readings\n",
    "    - maximum reading of any sensor at site 2\n",
    "    - total number of observations of site 1 sensor 2 (HINT: length() might come in handy)\n",
    "- Create a histogram of sensor_clean data values using [`ggplot`](https://www.datacamp.com/community/tutorials/make-histogram-ggplot2?utm_source=adwords_ppc&utm_campaignid=1655852085&utm_adgroupid=61045433982&utm_device=c&utm_keyword=%2Bggplot%20%2Bhistogram&utm_matchtype=b&utm_network=g&utm_adpostion=&utm_creative=318880582263&utm_targetid=aud-299261629654:kwd-589281897814&utm_loc_interest_ms=&utm_loc_physical_ms=9001468&gclid=CjwKCAjw-5v7BRAmEiwAJ3DpuAplDHvbht1sZoatYUeyuXK9B1hxeFKe7e1UlckE7c1eSptiAQQlwRoCp9EQAvD_BwE). **(1 mark)**\n"
   ]
  },
  {
   "cell_type": "code",
   "execution_count": 2,
   "metadata": {},
   "outputs": [],
   "source": [
    "## your code here"
   ]
  }
 ],
 "metadata": {
  "kernelspec": {
   "display_name": "Python 3",
   "language": "python",
   "name": "python3"
  },
  "language_info": {
   "codemirror_mode": {
    "name": "ipython",
    "version": 3
   },
   "file_extension": ".py",
   "mimetype": "text/x-python",
   "name": "python",
   "nbconvert_exporter": "python",
   "pygments_lexer": "ipython3",
   "version": "3.8.3"
  }
 },
 "nbformat": 4,
 "nbformat_minor": 4
}
