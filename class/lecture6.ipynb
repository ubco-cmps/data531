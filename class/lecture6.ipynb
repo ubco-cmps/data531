{
 "cells": [
  {
   "cell_type": "markdown",
   "source": [
    "# Lecture 6: Functions and testing in R"
   ],
   "metadata": {
    "slideshow": {
     "slide_type": "slide"
    }
   }
  },
  {
   "cell_type": "markdown",
   "source": [
    "**Note from Firas**\n",
    "\n",
    "Our series of R lectures will be presented by Dr. Tiffany Timbers, the other option co-director of the Vancouver MDS program."
   ],
   "metadata": {}
  },
  {
   "cell_type": "markdown",
   "source": [
    "### Correction from last class:\n",
    "\n",
    "You can do manipulations across rows as well as columns in R with data frames without iteration:"
   ],
   "metadata": {
    "slideshow": {
     "slide_type": "slide"
    }
   }
  },
  {
   "cell_type": "code",
   "execution_count": null,
   "source": [
    "head(cars)"
   ],
   "outputs": [],
   "metadata": {
    "slideshow": {
     "slide_type": "fragment"
    }
   }
  },
  {
   "cell_type": "code",
   "execution_count": null,
   "source": [
    "cars[1:3, ] <- (cars[1:3, ] + 1)\n",
    "head(cars)"
   ],
   "outputs": [],
   "metadata": {
    "slideshow": {
     "slide_type": "fragment"
    }
   }
  },
  {
   "cell_type": "markdown",
   "source": [
    "The memory implications I stated on Tuesday however, still stand."
   ],
   "metadata": {
    "slideshow": {
     "slide_type": "fragment"
    }
   }
  },
  {
   "cell_type": "markdown",
   "source": [
    "### Another question from lab\n",
    "\n",
    "What is a factor?"
   ],
   "metadata": {
    "slideshow": {
     "slide_type": "slide"
    }
   }
  },
  {
   "cell_type": "code",
   "execution_count": null,
   "source": [
    "df <- data.frame(province = c(\"BC\", \"AB\", \"ON\"), location = c(\"west\", \"west\", \"east\"))\n",
    "df"
   ],
   "outputs": [],
   "metadata": {
    "slideshow": {
     "slide_type": "fragment"
    }
   }
  },
  {
   "cell_type": "code",
   "execution_count": null,
   "source": [
    "str(df)"
   ],
   "outputs": [],
   "metadata": {
    "slideshow": {
     "slide_type": "fragment"
    }
   }
  },
  {
   "cell_type": "markdown",
   "source": [
    "#### Factors are integer vectors with attributes\n",
    "\n",
    "- have two attributes:\n",
    "    - class\n",
    "    - levels"
   ],
   "metadata": {
    "slideshow": {
     "slide_type": "slide"
    }
   }
  },
  {
   "cell_type": "code",
   "execution_count": null,
   "source": [
    "typeof(df$location)"
   ],
   "outputs": [],
   "metadata": {
    "slideshow": {
     "slide_type": "fragment"
    }
   }
  },
  {
   "cell_type": "code",
   "execution_count": null,
   "source": [
    "attributes(df$location)"
   ],
   "outputs": [],
   "metadata": {
    "slideshow": {
     "slide_type": "fragment"
    }
   }
  },
  {
   "cell_type": "markdown",
   "source": [
    "- used to store categorical data, and very useful for data visualization and modeling\n",
    "- not at all helpful for data wrangling"
   ],
   "metadata": {
    "slideshow": {
     "slide_type": "fragment"
    }
   }
  },
  {
   "cell_type": "markdown",
   "source": [
    "#### Other vector types built on top of the atomic vectors\n",
    "<img src=\"https://d33wubrfki0l68.cloudfront.net/baa19d0ebf9b97949a7ad259b29a1c4ae031c8e2/8e9b8/diagrams/vectors/summary-tree-s3-1.png\" width=300>"
   ],
   "metadata": {
    "slideshow": {
     "slide_type": "slide"
    }
   }
  },
  {
   "cell_type": "markdown",
   "source": [
    "### Writing readable R code\n",
    "\n",
    "- WriTing AND reading    (code) TaKes cognitive RESOURCES, & We only hAvE so MUCh! \n",
    "\n",
    "- To help free up cognitive capacity, we will follow the [tidyverse style guide](https://style.tidyverse.org/index.html)\n",
    "\n",
    "![](https://www.smartcat.io/media/1660/tidyverse.png?width=500&height=320)"
   ],
   "metadata": {
    "slideshow": {
     "slide_type": "slide"
    }
   }
  },
  {
   "cell_type": "markdown",
   "source": [
    "#### Sample code **not** in tidyverse style\n",
    "\n",
    "Can we spot what's wrong?"
   ],
   "metadata": {
    "slideshow": {
     "slide_type": "slide"
    }
   }
  },
  {
   "cell_type": "raw",
   "source": [
    "library(tidyverse)\n",
    "us.2015.econ=read_csv( \"data/state_property_data.csv\")\n",
    "us.2016.vote=read_csv( \"data/2016_presidential_election_state_vote.csv\")\n",
    "stateData=left_join (us.2015.econ,us.2016.vote) %>%\n",
    "    filter(party!=\"Not Applicable\") %>%\n",
    "    mutate(meanCommuteHours=mean_commute_minutes/60)\n",
    "ggplot(stateData, aes (x=mean_commute_minutes, y=med_prop_val, color=party)) +\n",
    "    geom_point()+\n",
    "    xlab( \"Income (USD)\" )+\n",
    "    ylab(\"Median property value (USD)\")+\n",
    "    scale_colour_manual (values = c(\"blue\",\"red\"))+\n",
    "    scale_x_continuous (labels = scales::dollar_format())+\n",
    "    scale_y_continuous (labels = scales::dollar_format())"
   ],
   "metadata": {
    "slideshow": {
     "slide_type": "fragment"
    }
   }
  },
  {
   "cell_type": "markdown",
   "source": [
    "#### Sample code in tidyverse style"
   ],
   "metadata": {
    "slideshow": {
     "slide_type": "slide"
    }
   }
  },
  {
   "cell_type": "raw",
   "source": [
    "library(tidyverse, quietly = TRUE)\n",
    "us_2015_econ <- read_csv(\"data/state_property_data.csv\")\n",
    "us_2016_vote <- read_csv(\"data/2016_presidential_election_state_vote.csv\")\n",
    "state_data <- left_join(us_2015_econ, us_2016_vote) %>%\n",
    "    filter(party != \"Not Applicable\") %>%\n",
    "    mutate(mean_commute_hours = mean_commute_minutes / 60)\n",
    "ggplot(state_data, aes(x = med_income, y = med_prop_val, color = party)) +\n",
    "    geom_point() +\n",
    "    xlab(\"Income (USD)\") +\n",
    "    ylab(\"Median property value (USD)\") +\n",
    "    scale_colour_manual(values = c(\"blue\", \"red\")) +\n",
    "    scale_x_continuous(labels = scales::dollar_format()) +\n",
    "    scale_y_continuous(labels = scales::dollar_format())"
   ],
   "metadata": {
    "slideshow": {
     "slide_type": "fragment"
    }
   }
  },
  {
   "cell_type": "markdown",
   "source": [
    "### Lecture learning objectives:\n",
    "\n",
    "By then end of the lecture & lab 3, students should be able to:\n",
    "* In R, define and use a named function that accepts parameters and returns values\n",
    "* Describe lazy evaluation and `...` (variable arguments) and how it affects functions in R\n",
    "* explain the importance of scoping and environments in R as they relate to functions\n",
    "* Use `testthat` to formulate a test case to prove a function design specification\n",
    "* Use test-driven development principles to define a function that accepts parameters, returns values and passes all tests\n"
   ],
   "metadata": {
    "slideshow": {
     "slide_type": "slide"
    }
   }
  },
  {
   "cell_type": "markdown",
   "source": [
    "* Handle errors gracefully via exception handling\n",
    "* Use `roxygen2` friendly function documentation to describe parameters, return values, description and example(s).\n",
    "* Write comments within a function to improve readability\n",
    "* Evaluate the readability, complexity and performance of a function\n",
    "* Source and use functions stored as R code in another file, as well as those in R packages/libraries\n",
    "* Describe what R packages/libraries are, as well as explain when and why they are useful"
   ],
   "metadata": {
    "slideshow": {
     "slide_type": "slide"
    }
   }
  },
  {
   "cell_type": "markdown",
   "source": [
    "### Defining functions in R\n",
    "\n",
    "- Use `variable <- function(…arguments…) { …body… }` to create a function and give it a name\n",
    "\n",
    "Example:"
   ],
   "metadata": {
    "slideshow": {
     "slide_type": "slide"
    }
   }
  },
  {
   "cell_type": "code",
   "execution_count": null,
   "source": [
    "add <- function(x, y) {\n",
    "  x + y\n",
    "}\n",
    "\n",
    "add(5, 10)"
   ],
   "outputs": [],
   "metadata": {
    "slideshow": {
     "slide_type": "fragment"
    }
   }
  },
  {
   "cell_type": "markdown",
   "source": [
    "- As in Python, functions in R are objects. This is referred to as “first-class functions”.\n",
    "- The last line of the function returns a value, to return a value early use the special word `return`"
   ],
   "metadata": {
    "slideshow": {
     "slide_type": "fragment"
    }
   }
  },
  {
   "cell_type": "code",
   "execution_count": null,
   "source": [
    "add <- function(x, y) {\n",
    "    if (!is.numeric(x) | !is.numeric(y)) {\n",
    "        return(NA)\n",
    "    }\n",
    "    x + y\n",
    "}\n",
    "\n",
    "add(5, \"a\")"
   ],
   "outputs": [],
   "metadata": {
    "slideshow": {
     "slide_type": "slide"
    }
   }
  },
  {
   "cell_type": "markdown",
   "source": [
    "*Note: you probably want to throw an error here instead of return NA, this example was purely for illustrating early returns*"
   ],
   "metadata": {
    "slideshow": {
     "slide_type": "fragment"
    }
   }
  },
  {
   "cell_type": "markdown",
   "source": [
    "### Default function arguments\n",
    "\n",
    "Same as in Python!"
   ],
   "metadata": {
    "slideshow": {
     "slide_type": "slide"
    }
   }
  },
  {
   "cell_type": "code",
   "execution_count": null,
   "source": [
    "repeat_string <- function(x, n = 2) {\n",
    "    repeated <- \"\"\n",
    "    for (i in seq_along(1:n)) {\n",
    "        repeated <- paste0(repeated, x)\n",
    "    }\n",
    "    repeated\n",
    "}\n",
    "\n",
    "repeat_string(\"MDS\")"
   ],
   "outputs": [],
   "metadata": {
    "slideshow": {
     "slide_type": "fragment"
    }
   }
  },
  {
   "cell_type": "markdown",
   "source": [
    "## Optional - Advanced\n",
    "\n",
    "### Extra arguments via `...`\n",
    "\n",
    "If we want our function to be able to take extra arguments that we don't specify, we must explicitly convert `...` to a list:"
   ],
   "metadata": {
    "slideshow": {
     "slide_type": "skip"
    }
   }
  },
  {
   "cell_type": "code",
   "execution_count": null,
   "source": [
    "add <- function(x, y, ...) {\n",
    "    total = x + y\n",
    "    for (value in list(...)) {\n",
    "        total <- total + value\n",
    "    }\n",
    "    total\n",
    "    print(list(...))\n",
    "}\n",
    "add(1, 3, 5, 6)"
   ],
   "outputs": [],
   "metadata": {
    "slideshow": {
     "slide_type": "skip"
    }
   }
  },
  {
   "cell_type": "markdown",
   "source": [
    "### Lexical scoping in R\n",
    "\n",
    "R’s lexical scoping follows several rules, we will cover the following 3:\n",
    "\n",
    "- Name masking\n",
    "- Dynamic lookup\n",
    "- A fresh start"
   ],
   "metadata": {
    "slideshow": {
     "slide_type": "slide"
    }
   }
  },
  {
   "cell_type": "markdown",
   "source": [
    "#### Name masking\n",
    "\n",
    "- Names defined inside a function mask names defined outside a function"
   ],
   "metadata": {
    "slideshow": {
     "slide_type": "slide"
    }
   }
  },
  {
   "cell_type": "markdown",
   "source": [
    "- If a name isn’t defined inside a function, R looks one level up (and then all the way up into the global environment and even loaded packages!)"
   ],
   "metadata": {
    "slideshow": {
     "slide_type": "fragment"
    }
   }
  },
  {
   "cell_type": "markdown",
   "source": [
    "Talk through the following code with your neighbour and predict the output, then let's confirm the result by running the code."
   ],
   "metadata": {
    "slideshow": {
     "slide_type": "slide"
    }
   }
  },
  {
   "cell_type": "code",
   "execution_count": null,
   "source": [
    "x <- 1\n",
    "g04 <- function() {\n",
    "  y <- 2\n",
    "  i <- function() {\n",
    "    z <- 3\n",
    "    c(x, y, z)\n",
    "  }\n",
    "  i()\n",
    "}\n",
    "g04()"
   ],
   "outputs": [],
   "metadata": {
    "slideshow": {
     "slide_type": "fragment"
    }
   }
  },
  {
   "cell_type": "markdown",
   "source": [
    "#### Dynamic lookup\n",
    "\n",
    "- R looks for values when the function is run, not when the function is created. \n",
    "- This means that the output of a function can differ depending on the objects outside the function’s environment."
   ],
   "metadata": {
    "slideshow": {
     "slide_type": "slide"
    }
   }
  },
  {
   "cell_type": "markdown",
   "source": [
    "Talk through the following code with your neighbour and predict the output, then let's confirm the result by running the code."
   ],
   "metadata": {
    "slideshow": {
     "slide_type": "slide"
    }
   }
  },
  {
   "cell_type": "code",
   "execution_count": null,
   "source": [
    "g12 <- function() x + 1\n",
    "x <- 15\n",
    "g12()\n",
    "\n",
    "x <- 20\n",
    "g12()"
   ],
   "outputs": [],
   "metadata": {
    "slideshow": {
     "slide_type": "fragment"
    }
   }
  },
  {
   "cell_type": "markdown",
   "source": [
    "#### A fresh start\n",
    "\n",
    "- Every time a function is called a new environment is created to host its execution.\n",
    "\n",
    "- This means that a function has no way to tell what happened the last time it was run; each invocation is completely independent."
   ],
   "metadata": {
    "slideshow": {
     "slide_type": "slide"
    }
   }
  },
  {
   "cell_type": "markdown",
   "source": [
    "Talk through the following code with your neighbour and predict the output, then let's confirm the result by running the code."
   ],
   "metadata": {
    "slideshow": {
     "slide_type": "slide"
    }
   }
  },
  {
   "cell_type": "code",
   "execution_count": null,
   "source": [
    "g11 <- function() {\n",
    "  if (!exists(\"a\")) {\n",
    "    a <- 1\n",
    "  } else {\n",
    "    a <- a + 1\n",
    "  }\n",
    "  a\n",
    "}\n",
    "\n",
    "g11()\n",
    "g11()\n",
    "g11()"
   ],
   "outputs": [],
   "metadata": {
    "slideshow": {
     "slide_type": "fragment"
    }
   }
  },
  {
   "cell_type": "markdown",
   "source": [
    "### Lazy evaluation\n",
    "\n",
    "In R, function arguments are lazily evaluated: they’re only evaluated if accessed.\n",
    "\n"
   ],
   "metadata": {
    "slideshow": {
     "slide_type": "slide"
    }
   }
  },
  {
   "cell_type": "markdown",
   "source": [
    "Knowing that, now consider the `add_one` function written in both R and Python below:\n",
    "\n",
    "```\n",
    "# R code (this would work)\n",
    "add_one <- function(x, y) {\n",
    "    x <- x + 1\n",
    "    return(x)\n",
    "} \n",
    "```\n",
    "\n",
    "```\n",
    "# Python code (this would not work)\n",
    "def add_one(x, y):\n",
    "    x = x + 1\n",
    "    return x\n",
    "```\n",
    "\n",
    "Answer the poll on Slack."
   ],
   "metadata": {
    "slideshow": {
     "slide_type": "slide"
    }
   }
  },
  {
   "cell_type": "markdown",
   "source": [
    "Poll:\n",
    "\n",
    "From the list below, select the reason why the above add_one function will work in R, but the equivalent version of the function in python would break.\n",
    "\n",
    "1. Python evaluates the function arguments before it evaluates the function and because it doesn't know what y is, it will break even though it is not used in the function.\n",
    "2. R performs lazy evaluation, meaning it delays the evaluation of the function arguments until its value is needed within/inside the function.\n",
    "3. The question is wrong, both functions would work in their respective languages. \n",
    "4. answer 1 & 2 are correct"
   ],
   "metadata": {
    "slideshow": {
     "slide_type": "skip"
    }
   }
  },
  {
   "cell_type": "markdown",
   "source": [
    "#### The power of lazy evaluation\n",
    "\n",
    "Let's you have easy to use interactive code like this:"
   ],
   "metadata": {
    "slideshow": {
     "slide_type": "slide"
    }
   }
  },
  {
   "cell_type": "code",
   "execution_count": null,
   "source": [
    "head(mtcars, n = 2)"
   ],
   "outputs": [],
   "metadata": {
    "slideshow": {
     "slide_type": "fragment"
    }
   }
  },
  {
   "cell_type": "code",
   "execution_count": null,
   "source": [
    "dplyr::select(mtcars, mpg, cyl, hp, qsec)"
   ],
   "outputs": [],
   "metadata": {
    "slideshow": {
     "slide_type": "fragment"
    }
   }
  },
  {
   "cell_type": "markdown",
   "source": [
    "Notes: \n",
    "- There's more than just lazy evaluation happening in the code above, but lazy evaluation is part of it.\n",
    "- `package::function()` is a way to use a function from an R package without loading the entire library.\n"
   ],
   "metadata": {
    "slideshow": {
     "slide_type": "fragment"
    }
   }
  },
  {
   "cell_type": "markdown",
   "source": [
    "### Function composition\n",
    "\n",
    "You have 3 options in R:\n",
    "\n",
    "- assigning values to intermediate objects,\n",
    "- nested function calls, or \n",
    "- the binary operator `%>%`, which is called the pipe and is pronounced as “and then”.\n",
    "\n",
    "![](https://media.giphy.com/media/Y3l2CbTxVd6oC47Bq5/giphy.gif)"
   ],
   "metadata": {
    "slideshow": {
     "slide_type": "slide"
    }
   }
  },
  {
   "cell_type": "markdown",
   "source": [
    " For example, imagine you want to compute the population standard deviation using `sqrt()` and `mean()` as building blocks, and we create the two functions:"
   ],
   "metadata": {
    "slideshow": {
     "slide_type": "slide"
    }
   }
  },
  {
   "cell_type": "code",
   "execution_count": null,
   "source": [
    "square <- function(x) {\n",
    "    x^2\n",
    "}\n",
    "deviation <- function(x) {\n",
    "    x - mean(x)\n",
    "}\n",
    "x <- runif(100)\n",
    "x"
   ],
   "outputs": [],
   "metadata": {
    "slideshow": {
     "slide_type": "fragment"
    }
   }
  },
  {
   "cell_type": "markdown",
   "source": [
    "Option 1: assigning values to intermediate objects"
   ],
   "metadata": {
    "slideshow": {
     "slide_type": "slide"
    }
   }
  },
  {
   "cell_type": "code",
   "execution_count": null,
   "source": [
    "out <- deviation(x)\n",
    "out <- square(out)\n",
    "out <- mean(out)\n",
    "out <- sqrt(out)\n",
    "out"
   ],
   "outputs": [],
   "metadata": {
    "slideshow": {
     "slide_type": "fragment"
    }
   }
  },
  {
   "cell_type": "markdown",
   "source": [
    "Option 2: nested function calls"
   ],
   "metadata": {
    "slideshow": {
     "slide_type": "slide"
    }
   }
  },
  {
   "cell_type": "code",
   "execution_count": null,
   "source": [
    "sqrt(mean(square(deviation(x))))"
   ],
   "outputs": [],
   "metadata": {
    "slideshow": {
     "slide_type": "fragment"
    }
   }
  },
  {
   "cell_type": "markdown",
   "source": [
    "Option 3: the binary operator `%>%`, which is called the pipe and is pronounced as “and then”."
   ],
   "metadata": {
    "slideshow": {
     "slide_type": "slide"
    }
   }
  },
  {
   "cell_type": "code",
   "execution_count": null,
   "source": [
    "library(magrittr, quietly = TRUE) # also loaded as a dependency of dplyr and tidyverse\n",
    "\n",
    "x %>%\n",
    "  deviation() %>%\n",
    "  square() %>%\n",
    "  mean() %>%\n",
    "  sqrt()"
   ],
   "outputs": [],
   "metadata": {
    "slideshow": {
     "slide_type": "fragment"
    }
   }
  },
  {
   "cell_type": "markdown",
   "source": [
    "#### What to choose?\n",
    "\n",
    "Each of the three options has its own strengths and weaknesses:"
   ],
   "metadata": {
    "slideshow": {
     "slide_type": "slide"
    }
   }
  },
  {
   "cell_type": "markdown",
   "source": [
    "Intermediate objects:\n",
    "- requires you to name intermediate objects. This is a strength when objects are important, but a weakness when values are truly intermediate."
   ],
   "metadata": {
    "slideshow": {
     "slide_type": "fragment"
    }
   }
  },
  {
   "cell_type": "markdown",
   "source": [
    "Nesting:\n",
    "- is concise, and well suited for short sequences. \n",
    "- But longer sequences are hard to read because they are read inside out and right to left. \n"
   ],
   "metadata": {
    "slideshow": {
     "slide_type": "fragment"
    }
   }
  },
  {
   "cell_type": "markdown",
   "source": [
    "Piping:\n",
    "- allows you to read code in straightforward left-to-right fashion and doesn’t require you to name intermediate objects. \n",
    "- But you can only use it with linear sequences of transformations of a single object.\n",
    "- It also requires an additional third party package and assumes that the reader understands piping."
   ],
   "metadata": {
    "slideshow": {
     "slide_type": "fragment"
    }
   }
  },
  {
   "cell_type": "markdown",
   "source": [
    "### 5 min break"
   ],
   "metadata": {
    "slideshow": {
     "slide_type": "slide"
    }
   }
  },
  {
   "cell_type": "markdown",
   "source": [
    "### Writing tests in R with test_that\n",
    "\n",
    "- Industry standard tool for writing tests in R is the [`testthat` package](https://testthat.r-lib.org/).\n",
    "- To use an R package, we typically load the package into R using the `library` function:"
   ],
   "metadata": {
    "slideshow": {
     "slide_type": "slide"
    }
   }
  },
  {
   "cell_type": "code",
   "execution_count": null,
   "source": [
    "library(testthat)"
   ],
   "outputs": [],
   "metadata": {
    "slideshow": {
     "slide_type": "fragment"
    }
   }
  },
  {
   "cell_type": "markdown",
   "source": [
    "#### How to write a test with `testthat::test_that`\n",
    "\n",
    "```\n",
    "test_that(\"Message to print if test fails\", expect_*(...))\n",
    "```\n",
    "\n",
    "Often our `test_that` function calls are longer than 80 characters, so we use `{` to split the code across multiple lines, for example:"
   ],
   "metadata": {
    "slideshow": {
     "slide_type": "slide"
    }
   }
  },
  {
   "cell_type": "code",
   "execution_count": null,
   "source": [
    "x <- c(3.5, 3.5, 3.5)\n",
    "y <- c(3.5, 3.5, 3.49999)\n",
    "test_that(\"x and y should contain the same values\", {\n",
    "    expect_equal(x, y)\n",
    "})"
   ],
   "outputs": [],
   "metadata": {
    "slideshow": {
     "slide_type": "fragment"
    }
   }
  },
  {
   "cell_type": "markdown",
   "source": [
    "Are you starting to see a pattern with `{` yet..."
   ],
   "metadata": {
    "slideshow": {
     "slide_type": "fragment"
    }
   }
  },
  {
   "cell_type": "markdown",
   "source": [
    "#### Common `expect_*` statements for use with `test_that`\n",
    "\n",
    "#### Is the object equal to a value? \n",
    "- `expect_identical` - test two objects for being exactly equal\n",
    "- `expect_equal` - compare R objects x and y testing ‘near equality’ (can set a tolerance)\n",
    "- `expect_equivalent` - compare R objects x and y testing ‘near equality’ (can set a tolerance) and does not assess attributes\n",
    "\n",
    "#### Does code produce an output/message/warning/error?\n",
    "- `expect_error` - tests if an expression throws an error\n",
    "- `expect_warning` - tests whether an expression outputs a warning\n",
    "- `expect_output` - tests that print output matches a specified value"
   ],
   "metadata": {
    "slideshow": {
     "slide_type": "slide"
    }
   }
  },
  {
   "cell_type": "markdown",
   "source": [
    "#### Is the object true/false?\n",
    "\n",
    "These are fall-back expectations that you can use when none of the other more specific expectations apply. The disadvantage is that you may get a less informative error message.\n",
    "\n",
    "- `expect_true` - tests if the object returns `TRUE`\n",
    "- `expect_false` - tests if the object returns `FALSE`"
   ],
   "metadata": {
    "slideshow": {
     "slide_type": "slide"
    }
   }
  },
  {
   "cell_type": "markdown",
   "source": [
    "#### Challenge 1: \n",
    "\n",
    "Add a tolerance arguement to the `expect_equal` statement such that the observed difference between these very similar vectors doesn't cause the test to fail. "
   ],
   "metadata": {
    "slideshow": {
     "slide_type": "slide"
    }
   }
  },
  {
   "cell_type": "code",
   "execution_count": null,
   "source": [
    "x <- c(3.5, 3.5, 3.5)\n",
    "y <- c(3.5, 3.5, 3.49999)\n",
    "test_that(\"x and y should contain the same values\", {\n",
    "    expect_equal(x, y)\n",
    "})"
   ],
   "outputs": [],
   "metadata": {
    "slideshow": {
     "slide_type": "fragment"
    }
   }
  },
  {
   "cell_type": "markdown",
   "source": [
    "#### Unit test example "
   ],
   "metadata": {
    "slideshow": {
     "slide_type": "slide"
    }
   }
  },
  {
   "cell_type": "code",
   "execution_count": null,
   "source": [
    "celsius_to_fahr <- function(temp) {\n",
    "  (temp * (9 / 5)) + 32\n",
    "}"
   ],
   "outputs": [],
   "metadata": {
    "slideshow": {
     "slide_type": "fragment"
    }
   }
  },
  {
   "cell_type": "code",
   "execution_count": null,
   "source": [
    "test_that(\"Temperature should be the same in Celcius and Fahrenheit at -40\", {\n",
    "        expect_identical(celsius_to_fahr(-40), -40)\n",
    "    })\n",
    "test_that(\"Room temperature should be about 23 degrees in Celcius and 73 degrees Fahrenheit\", {\n",
    "        expect_equal(celsius_to_fahr(23), 73, tolerance = 1)\n",
    "    })"
   ],
   "outputs": [],
   "metadata": {
    "slideshow": {
     "slide_type": "fragment"
    }
   }
  },
  {
   "cell_type": "markdown",
   "source": [
    "### Test-driven development (TDD) review\n",
    "\n",
    "1. Write your tests first (that call the function you haven't yet written), based on edge cases you expect or can calculate by hand\n",
    "\n",
    "2. If necessary, create some \"helper\" data to test your function with (this might be done in conjunction with step 1)\n",
    "\n",
    "3. Write your function to make the tests pass (in this process you might think of more tests that you want to add)"
   ],
   "metadata": {
    "slideshow": {
     "slide_type": "slide"
    }
   }
  },
  {
   "cell_type": "markdown",
   "source": [
    "#### Toy example of how TDD can be helpful\n",
    "\n",
    "Let's create a function called `fahr_to_celsius` that converts temperatures from Fahrenheit to Celsius.\n",
    "\n",
    "First we'll write the tests (which will fail):\n"
   ],
   "metadata": {
    "slideshow": {
     "slide_type": "slide"
    }
   }
  },
  {
   "cell_type": "code",
   "execution_count": null,
   "source": [
    "test_fahr_to_celsius <- function() {\n",
    "    test_that(\"Temperature should be the same in Celcius and Fahrenheit at -40\", {\n",
    "        expect_identical(fahr_to_celsius(-40), -40)\n",
    "    })\n",
    "    test_that(\"Room temperature should be about 73 degrees Fahrenheit and 23 degrees in Celcius\", {\n",
    "        expect_equal(fahr_to_celsius(73), 23, tolerance = 1)\n",
    "    })\n",
    "}"
   ],
   "outputs": [],
   "metadata": {
    "slideshow": {
     "slide_type": "fragment"
    }
   }
  },
  {
   "cell_type": "markdown",
   "source": [
    "Then we write our function to pass the tests:"
   ],
   "metadata": {
    "slideshow": {
     "slide_type": "slide"
    }
   }
  },
  {
   "cell_type": "code",
   "execution_count": null,
   "source": [
    "fahr_to_celsius <- function(temp) {\n",
    "    (temp + 32) * 5/9\n",
    "}"
   ],
   "outputs": [],
   "metadata": {
    "slideshow": {
     "slide_type": "fragment"
    }
   }
  },
  {
   "cell_type": "markdown",
   "source": [
    "Then we call our tests to check it:"
   ],
   "metadata": {
    "slideshow": {
     "slide_type": "fragment"
    }
   }
  },
  {
   "cell_type": "code",
   "execution_count": null,
   "source": [
    "test_fahr_to_celsius()"
   ],
   "outputs": [],
   "metadata": {
    "slideshow": {
     "slide_type": "slide"
    }
   }
  },
  {
   "cell_type": "markdown",
   "source": [
    "### Exception handling in R\n",
    "\n",
    "How to check type and throw an error if not the expected type:"
   ],
   "metadata": {
    "slideshow": {
     "slide_type": "slide"
    }
   }
  },
  {
   "cell_type": "code",
   "execution_count": null,
   "source": [
    "if (!is.numeric(c(1, 2, \"c\")))\n",
    "  stop(\"Cannot compute of a vector of characters.\")"
   ],
   "outputs": [],
   "metadata": {
    "slideshow": {
     "slide_type": "fragment"
    }
   }
  },
  {
   "cell_type": "markdown",
   "source": [
    "Example of defensive programming at the beginning of a function:"
   ],
   "metadata": {
    "slideshow": {
     "slide_type": "slide"
    }
   }
  },
  {
   "cell_type": "code",
   "execution_count": null,
   "source": [
    "fahr_to_celsius <- function(temp) {\n",
    "    if(!is.numeric(temp)){\n",
    "        stop(\"Cannot calculate temperature in Farenheit for non-numerical values\")\n",
    "    }\n",
    "    (temp - 32) * 5/9\n",
    "}"
   ],
   "outputs": [],
   "metadata": {
    "slideshow": {
     "slide_type": "fragment"
    }
   }
  },
  {
   "cell_type": "code",
   "execution_count": null,
   "source": [
    "fahr_to_celsius(\"thirty\")"
   ],
   "outputs": [],
   "metadata": {
    "slideshow": {
     "slide_type": "fragment"
    }
   }
  },
  {
   "cell_type": "markdown",
   "source": [
    "If you wanted to issue a warning instead of an error, you could use `warning` in place of `stop` in the example above. However, in most cases it is better practice to throw an error than to print a warning..."
   ],
   "metadata": {
    "slideshow": {
     "slide_type": "fragment"
    }
   }
  },
  {
   "cell_type": "markdown",
   "source": [
    "#### We can test our exceptions using test_that:"
   ],
   "metadata": {
    "slideshow": {
     "slide_type": "slide"
    }
   }
  },
  {
   "cell_type": "code",
   "execution_count": null,
   "source": [
    "test_that(\"Non-numeric values for temp should throw an error\", {\n",
    "    expect_error(fahr_to_celsius(\"thirty\"))\n",
    "    expect_error(fahr_to_celsius(list(4)))\n",
    "    })"
   ],
   "outputs": [],
   "metadata": {
    "slideshow": {
     "slide_type": "fragment"
    }
   }
  },
  {
   "cell_type": "markdown",
   "source": [
    "#### `try` in R\n",
    "\n",
    "Similar to Python, R has a `try` function to attempt to run code, and continue running subsequent code even if code in the try block does not work:\n",
    "\n",
    "```\n",
    "try({\n",
    "    # some code\n",
    "    # that can be \n",
    "    # split across several\n",
    "    # lines\n",
    "})\n",
    "\n",
    "# code to continue even if error in code \n",
    "# in try code block above\n",
    "```"
   ],
   "metadata": {
    "slideshow": {
     "slide_type": "slide"
    }
   }
  },
  {
   "cell_type": "markdown",
   "source": [
    "This code normally results in an error that stops following code from running:"
   ],
   "metadata": {
    "slideshow": {
     "slide_type": "slide"
    }
   }
  },
  {
   "cell_type": "code",
   "execution_count": null,
   "source": [
    "x <- data.frame(col1 = c(1, 2, 3, 2, 1), \n",
    "                col2 = c(0, 1, 0, 0 , 1))\n",
    "x[3]\n",
    "dim(x)"
   ],
   "outputs": [],
   "metadata": {
    "slideshow": {
     "slide_type": "fragment"
    }
   }
  },
  {
   "cell_type": "markdown",
   "source": [
    "Try let's the code following the error run:"
   ],
   "metadata": {
    "slideshow": {
     "slide_type": "fragment"
    }
   }
  },
  {
   "cell_type": "code",
   "execution_count": null,
   "source": [
    "try({x <- data.frame(col1 = c(1, 2, 3, 2, 1), \n",
    "                     col2 = c(0, 1, 0, 0 , 1))\n",
    "     x[3]\n",
    "})\n",
    "dim(x)"
   ],
   "outputs": [],
   "metadata": {
    "slideshow": {
     "slide_type": "fragment"
    }
   }
  },
  {
   "cell_type": "markdown",
   "source": [
    "Sensibly (IMHO) `try` has a default of `silent=FALSE`, which you can change if you find good reason too."
   ],
   "metadata": {
    "slideshow": {
     "slide_type": "fragment"
    }
   }
  },
  {
   "cell_type": "markdown",
   "source": [
    "### `roxygen2` friendly function documentation "
   ],
   "metadata": {
    "slideshow": {
     "slide_type": "slide"
    }
   }
  },
  {
   "cell_type": "code",
   "execution_count": null,
   "source": [
    "#' Converts temperatures from Fahrenheit to Celsius.\n",
    "#'    \n",
    "#' @param temp a vector of temperatures in Fahrenheit\n",
    "#' \n",
    "#' @return a vector of temperatures in Celsius\n",
    "#' \n",
    "#' @examples\n",
    "#' fahr_to_celcius(-20)\n",
    "fahr_to_celsius <- function(temp) {\n",
    "    (temp - 32) * 5/9\n",
    "}"
   ],
   "outputs": [],
   "metadata": {
    "slideshow": {
     "slide_type": "fragment"
    }
   }
  },
  {
   "cell_type": "markdown",
   "source": [
    "Why `roxygen2` documentation? If you document your functions like this, *when* you create an R package to share them they will be set up to have the fancy documentation that we get using `?function_name`."
   ],
   "metadata": {
    "slideshow": {
     "slide_type": "fragment"
    }
   }
  },
  {
   "cell_type": "markdown",
   "source": [
    "#### RStudio has template for `roxygen2` documentation\n",
    "\n",
    "<img src=\"img/insert_roxygen.png\" width=500>"
   ],
   "metadata": {
    "slideshow": {
     "slide_type": "slide"
    }
   }
  },
  {
   "cell_type": "markdown",
   "source": [
    "### Reading in functions from an R script\n",
    "\n",
    "Usually the step before packaging your code, is having some functions in another script that you want to read into your analysis. We use the `source` function to do this:"
   ],
   "metadata": {
    "slideshow": {
     "slide_type": "slide"
    }
   }
  },
  {
   "cell_type": "code",
   "execution_count": null,
   "source": [
    "source(\"src/kelvin_to_celsius.R\")"
   ],
   "outputs": [],
   "metadata": {
    "slideshow": {
     "slide_type": "fragment"
    }
   }
  },
  {
   "cell_type": "markdown",
   "source": [
    "Once you do this, you have access to all functions contained within that script:"
   ],
   "metadata": {
    "slideshow": {
     "slide_type": "fragment"
    }
   }
  },
  {
   "cell_type": "code",
   "execution_count": null,
   "source": [
    "kelvin_to_celsius(273.15)"
   ],
   "outputs": [],
   "metadata": {
    "slideshow": {
     "slide_type": "fragment"
    }
   }
  },
  {
   "cell_type": "markdown",
   "source": [
    "*Note - this is how the `test_*` functions are brought into your Jupyter notebooks for the autograding part of your lab3 homework.*"
   ],
   "metadata": {
    "slideshow": {
     "slide_type": "fragment"
    }
   }
  },
  {
   "cell_type": "markdown",
   "source": [
    "### Introduction to R packages\n",
    "\n",
    "- `source(\"script_with_functions.R\")` is useful, but when you start using these functions in different projects you need to keep copying the script, or having overly specific paths..."
   ],
   "metadata": {
    "slideshow": {
     "slide_type": "slide"
    }
   }
  },
  {
   "cell_type": "markdown",
   "source": [
    "- The next step is packaging your R code so that it can be installed and then used across multiple projects on your (and others) machines without directly pointing to where the code is stored, but instead accessed using the `library` function."
   ],
   "metadata": {
    "slideshow": {
     "slide_type": "fragment"
    }
   }
  },
  {
   "cell_type": "markdown",
   "source": [
    "- You will learn how to do this in Collaborative Software Development (term 2), but for now, let's tour a simple R package to get a better understanding of what they are: https://github.com/ttimbers/convertemp"
   ],
   "metadata": {
    "slideshow": {
     "slide_type": "fragment"
    }
   }
  },
  {
   "cell_type": "markdown",
   "source": [
    "### Install the convertemp R package:\n",
    "\n",
    "In RStudio, type: `devtools::install_github(\"ttimbers/convertemp\")`"
   ],
   "metadata": {
    "slideshow": {
     "slide_type": "slide"
    }
   }
  },
  {
   "cell_type": "code",
   "execution_count": null,
   "source": [
    "library(convertemp)"
   ],
   "outputs": [],
   "metadata": {
    "slideshow": {
     "slide_type": "fragment"
    }
   }
  },
  {
   "cell_type": "code",
   "execution_count": null,
   "source": [
    "?celsius_to_kelvin"
   ],
   "outputs": [],
   "metadata": {
    "slideshow": {
     "slide_type": "fragment"
    }
   }
  },
  {
   "cell_type": "code",
   "execution_count": null,
   "source": [
    "celsius_to_kelvin(0)"
   ],
   "outputs": [],
   "metadata": {
    "slideshow": {
     "slide_type": "fragment"
    }
   }
  },
  {
   "cell_type": "markdown",
   "source": [
    "### What did we learn today?\n",
    "\n",
    "- \n",
    " \n",
    "- \n",
    "\n",
    "- \n"
   ],
   "metadata": {
    "slideshow": {
     "slide_type": "slide"
    }
   }
  },
  {
   "cell_type": "markdown",
   "source": [
    "## Attribution:\n",
    "- [Advanced R](https://adv-r.hadley.nz/) by Hadley Wickham\n",
    "- [The Tidynomicon](http://tidynomicon.tech/) by Greg Wilson"
   ],
   "metadata": {
    "slideshow": {
     "slide_type": "slide"
    }
   }
  }
 ],
 "metadata": {
  "celltoolbar": "Slideshow",
  "kernelspec": {
   "display_name": "R",
   "language": "R",
   "name": "ir"
  },
  "language_info": {
   "codemirror_mode": "r",
   "file_extension": ".r",
   "mimetype": "text/x-r-source",
   "name": "R",
   "pygments_lexer": "r",
   "version": "4.0.2"
  }
 },
 "nbformat": 4,
 "nbformat_minor": 2
}