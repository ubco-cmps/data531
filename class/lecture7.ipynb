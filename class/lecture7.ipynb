{
 "cells": [
  {
   "cell_type": "markdown",
   "source": [
    "# Lecture 7: Functional-style programming in R"
   ],
   "metadata": {
    "slideshow": {
     "slide_type": "slide"
    }
   }
  },
  {
   "cell_type": "markdown",
   "source": [
    "**Note from Firas**\n",
    "\n",
    "Our series of R lectures will be presented by Dr. Tiffany Timbers, the other option co-director of the Vancouver MDS program."
   ],
   "metadata": {}
  },
  {
   "cell_type": "markdown",
   "source": [
    "### First, some things leftover from last week..."
   ],
   "metadata": {
    "slideshow": {
     "slide_type": "slide"
    }
   }
  },
  {
   "cell_type": "markdown",
   "source": [
    "## Reading in functions from an R script\n",
    "\n",
    "Usually the step before packaging your code, is having some functions in another script that you want to read into your analysis. We use the `source` function to do this:"
   ],
   "metadata": {
    "slideshow": {
     "slide_type": "slide"
    }
   }
  },
  {
   "cell_type": "code",
   "execution_count": null,
   "source": [
    "source(\"src/kelvin_to_celsius.R\")"
   ],
   "outputs": [],
   "metadata": {
    "slideshow": {
     "slide_type": "fragment"
    }
   }
  },
  {
   "cell_type": "markdown",
   "source": [
    "Once you do this, you have access to all functions contained within that script:"
   ],
   "metadata": {
    "slideshow": {
     "slide_type": "fragment"
    }
   }
  },
  {
   "cell_type": "code",
   "execution_count": null,
   "source": [
    "kelvin_to_celsius(273.15)"
   ],
   "outputs": [],
   "metadata": {
    "slideshow": {
     "slide_type": "fragment"
    }
   }
  },
  {
   "cell_type": "markdown",
   "source": [
    "*Note - this is how the `test_*` functions are brought into your Jupyter notebooks for the autograding part of your lab3 homework.*"
   ],
   "metadata": {
    "slideshow": {
     "slide_type": "fragment"
    }
   }
  },
  {
   "cell_type": "markdown",
   "source": [
    "## Introduction to R packages\n",
    "\n",
    "- `source(\"script_with_functions.R\")` is useful, but when you start using these functions in different projects you need to keep copying the script, or having overly specific paths..."
   ],
   "metadata": {
    "slideshow": {
     "slide_type": "slide"
    }
   }
  },
  {
   "cell_type": "markdown",
   "source": [
    "- The next step is packaging your R code so that it can be installed and then used across multiple projects on your (and others) machines without directly pointing to where the code is stored, but instead accessed using the `library` function."
   ],
   "metadata": {
    "slideshow": {
     "slide_type": "slide"
    }
   }
  },
  {
   "cell_type": "markdown",
   "source": [
    "- You will learn how to do this in Collaborative Software Development (term 2), but for now, let's tour a simple R package to get a better understanding of what they are: https://github.com/ttimbers/convertemp"
   ],
   "metadata": {
    "slideshow": {
     "slide_type": "slide"
    }
   }
  },
  {
   "cell_type": "markdown",
   "source": [
    "### Install the convertemp R package:\n",
    "\n",
    "In RStudio, type: `devtools::install_github(\"ttimbers/convertemp\")`"
   ],
   "metadata": {
    "slideshow": {
     "slide_type": "slide"
    }
   }
  },
  {
   "cell_type": "code",
   "execution_count": null,
   "source": [
    "library(convertemp)"
   ],
   "outputs": [],
   "metadata": {
    "slideshow": {
     "slide_type": "fragment"
    }
   }
  },
  {
   "cell_type": "code",
   "execution_count": null,
   "source": [
    "?celsius_to_kelvin"
   ],
   "outputs": [],
   "metadata": {
    "slideshow": {
     "slide_type": "fragment"
    }
   }
  },
  {
   "cell_type": "code",
   "execution_count": null,
   "source": [
    "celsius_to_kelvin(0)"
   ],
   "outputs": [],
   "metadata": {
    "slideshow": {
     "slide_type": "fragment"
    }
   }
  },
  {
   "cell_type": "markdown",
   "source": [
    "### Packages and environments\n",
    "\n",
    "- Each package attached by library() becomes one of the parents of the global environment\n",
    "\n",
    "- The immediate parent of the global environment is the last package you attached, the parent of that package is the second to last package you attached, …"
   ],
   "metadata": {
    "slideshow": {
     "slide_type": "slide"
    }
   }
  },
  {
   "cell_type": "markdown",
   "source": [
    "<img src=\"https://d33wubrfki0l68.cloudfront.net/038b2da4f5db1d2a8acaf4ee1e7d08d04ab36ebc/ac22a/diagrams/environments/search-path.png\" width=800>\n",
    "\n",
    "*Source: [Advanced R](https://adv-r.hadley.nz/) by Hadley Wickham*"
   ],
   "metadata": {
    "slideshow": {
     "slide_type": "fragment"
    }
   }
  },
  {
   "cell_type": "markdown",
   "source": [
    "### Packages and environments\n",
    "\n",
    "When you attach another package with library(), the parent environment of the global environment changes:"
   ],
   "metadata": {
    "slideshow": {
     "slide_type": "slide"
    }
   }
  },
  {
   "cell_type": "markdown",
   "source": [
    "<img src=\"https://d33wubrfki0l68.cloudfront.net/7c87a5711e92f0269cead3e59fc1e1e45f3667e9/0290f/diagrams/environments/search-path-2.png\" width=800>\n",
    "\n",
    "*Source: [Advanced R](https://adv-r.hadley.nz/) by Hadley Wickham*"
   ],
   "metadata": {
    "slideshow": {
     "slide_type": "fragment"
    }
   }
  },
  {
   "cell_type": "markdown",
   "source": [
    "## Functional style programming in R with `purrr`\n",
    "\n",
    "\n",
    "![](https://ih1.redbubble.net/image.329884292.2339/sticker,375x360-bg,ffffff.u1.png)\n",
    "\n",
    "https://purrr.tidyverse.org/"
   ],
   "metadata": {
    "slideshow": {
     "slide_type": "slide"
    }
   }
  },
  {
   "cell_type": "markdown",
   "source": [
    "#### If you have programmed in R before\n",
    "\n",
    "`purrr` is an alternative to \"apply\" functions \n",
    "\n",
    "`purrr::map()` ≈ `base::lapply()`"
   ],
   "metadata": {
    "slideshow": {
     "slide_type": "notes"
    }
   }
  },
  {
   "cell_type": "markdown",
   "source": [
    "### How do we apply a function to all columns of a data frame?\n",
    "\n",
    "Say, for example we wanted to calculate the median for each column in the `mtcars` data frame:"
   ],
   "metadata": {
    "slideshow": {
     "slide_type": "slide"
    }
   }
  },
  {
   "cell_type": "code",
   "execution_count": null,
   "source": [
    "head(mtcars)"
   ],
   "outputs": [],
   "metadata": {}
  },
  {
   "cell_type": "code",
   "execution_count": null,
   "source": [
    "medians <- vector(\"double\", ncol(mtcars))\n",
    "for (i in seq_along(mtcars)) {\n",
    "    medians[i] <- median(mtcars[[i]], na.rm = TRUE)\n",
    "}"
   ],
   "outputs": [],
   "metadata": {
    "slideshow": {
     "slide_type": "slide"
    }
   }
  },
  {
   "cell_type": "markdown",
   "source": [
    "OK, then next we want to calculate the mean for all of the columns:"
   ],
   "metadata": {
    "slideshow": {
     "slide_type": "fragment"
    }
   }
  },
  {
   "cell_type": "code",
   "execution_count": null,
   "source": [
    "means <- vector(\"double\", ncol(mtcars))\n",
    "for (i in seq_along(mtcars)) {\n",
    "    means[i] <- mean(mtcars[[i]], na.rm = TRUE)\n",
    "}"
   ],
   "outputs": [],
   "metadata": {
    "slideshow": {
     "slide_type": "fragment"
    }
   }
  },
  {
   "cell_type": "markdown",
   "source": [
    "OK, and then the variance..."
   ],
   "metadata": {
    "slideshow": {
     "slide_type": "fragment"
    }
   }
  },
  {
   "cell_type": "code",
   "execution_count": null,
   "source": [
    "variances <- vector(\"double\", ncol(mtcars))\n",
    "for (i in seq_along(mtcars)) {\n",
    "    variances[i] <- var(mtcars[[i]], na.rm = TRUE)\n",
    "}"
   ],
   "outputs": [],
   "metadata": {
    "slideshow": {
     "slide_type": "fragment"
    }
   }
  },
  {
   "cell_type": "markdown",
   "source": [
    "This is getting a little repetitive... What are we repeating?"
   ],
   "metadata": {
    "slideshow": {
     "slide_type": "fragment"
    }
   }
  },
  {
   "cell_type": "markdown",
   "source": [
    "### Can we write this as a function?\n",
    "\n",
    "Given that functions are objects in R, this seems reasonable!"
   ],
   "metadata": {
    "slideshow": {
     "slide_type": "slide"
    }
   }
  },
  {
   "cell_type": "code",
   "execution_count": null,
   "source": [
    "medians <- vector(\"double\", ncol(mtcars))\n",
    "for (i in seq_along(mtcars)) {\n",
    "    medians[i] <- median(mtcars[[i]], na.rm = TRUE)\n",
    "}"
   ],
   "outputs": [],
   "metadata": {
    "slideshow": {
     "slide_type": "fragment"
    }
   }
  },
  {
   "cell_type": "markdown",
   "source": [
    "This is essentially the guts of `purrr::map_dbl`. The only difference is that is coded in C and the use of `...` for additional arguments."
   ],
   "metadata": {
    "slideshow": {
     "slide_type": "fragment"
    }
   }
  },
  {
   "cell_type": "code",
   "execution_count": null,
   "source": [
    "mds_map <- function(x, fun)  {\n",
    "    out <- vector(\"double\", ncol(x))\n",
    "    for (i in seq_along(x)) {\n",
    "        out[i] <- fun(x[[i]], na.rm = TRUE)\n",
    "    }\n",
    "    out\n",
    "}\n",
    "mds_map(mtcars, min)"
   ],
   "outputs": [],
   "metadata": {
    "slideshow": {
     "slide_type": "notes"
    }
   }
  },
  {
   "cell_type": "markdown",
   "source": [
    "### Functionals\n",
    "\n",
    "We have just written what is called a functional. \n",
    "\n",
    "A functional is a function that takes a function (and other things) as an input and returns a vector as output.\n",
    "\n",
    "R has several other functionals outside of `purrr` that you might have already encountered: `lapply`, `apply`, `tapply`, `integrate` or `optim`."
   ],
   "metadata": {
    "slideshow": {
     "slide_type": "slide"
    }
   }
  },
  {
   "cell_type": "markdown",
   "source": [
    "### What can you do with functionals?\n",
    "\n",
    "- Common use is as an alternative to for loops"
   ],
   "metadata": {
    "slideshow": {
     "slide_type": "slide"
    }
   }
  },
  {
   "cell_type": "markdown",
   "source": [
    "- For loops are actually quite effective for iteration, and efficient when used, however it is easy to make mistakes when setting them up as you have to:\n",
    "    - pre-allocate space for the output\n",
    "    - iterate over the thing the right amount of times\n",
    "    - properly use the iteration index\n",
    "   "
   ],
   "metadata": {
    "slideshow": {
     "slide_type": "fragment"
    }
   }
  },
  {
   "cell_type": "markdown",
   "source": [
    "### *Of course someone has to write for loops*\n",
    "\n",
    "### *It doesn't have to be you*\n",
    "\n",
    "-- *Jenny Bryan, Software Developer at RStudio and MDS Founder*"
   ],
   "metadata": {
    "slideshow": {
     "slide_type": "slide"
    }
   }
  },
  {
   "cell_type": "markdown",
   "source": [
    "### The `purrr::map*` family of functions\n",
    "\n",
    "<img src=\"img/map_family.png\" width=900>\n",
    "\n",
    "*Source: [Advanced R](https://adv-r.hadley.nz/) by Hadley Wickham*"
   ],
   "metadata": {
    "slideshow": {
     "slide_type": "slide"
    }
   }
  },
  {
   "cell_type": "markdown",
   "source": [
    "### Let's start at the beginning with the most general `purrr` function: `map`\n",
    "\n",
    "```\n",
    "map(.x, .f, ...)\n",
    "```"
   ],
   "metadata": {
    "slideshow": {
     "slide_type": "slide"
    }
   }
  },
  {
   "cell_type": "markdown",
   "source": [
    "Above reads as: `for` every element of `.x` apply `.f` "
   ],
   "metadata": {
    "slideshow": {
     "slide_type": "fragment"
    }
   }
  },
  {
   "cell_type": "markdown",
   "source": [
    "and can be pictured as:\n",
    "\n",
    "<img src=\"https://d33wubrfki0l68.cloudfront.net/12f6af8404d9723dff9cc665028a35f07759299d/d0d9a/diagrams/functionals/map-list.png\" width=500>"
   ],
   "metadata": {
    "slideshow": {
     "slide_type": "fragment"
    }
   }
  },
  {
   "cell_type": "markdown",
   "source": [
    "Or picture as..."
   ],
   "metadata": {
    "slideshow": {
     "slide_type": "slide"
    }
   }
  },
  {
   "cell_type": "markdown",
   "source": [
    "<img src=\"img/minis_as_data.png\" width=800>\n",
    "\n",
    "*Source: [Row-oriented workflows in R with the tidyverse](https://speakerdeck.com/jennybc/row-oriented-workflows-in-r-with-the-tidyverse) by Jenny Bryan*"
   ],
   "metadata": {
    "slideshow": {
     "slide_type": "slide"
    }
   }
  },
  {
   "cell_type": "markdown",
   "source": [
    "<img src=\"img/minis_map.png\" width=800>\n",
    "\n",
    "*Source: [Row-oriented workflows in R with the tidyverse](https://speakerdeck.com/jennybc/row-oriented-workflows-in-r-with-the-tidyverse) by Jenny Bryan*"
   ],
   "metadata": {
    "slideshow": {
     "slide_type": "slide"
    }
   }
  },
  {
   "cell_type": "markdown",
   "source": [
    "### `purrr::map` test drive\n",
    "\n",
    "Let's calculate the median of all the columns of the `mtcars` data frame using `purrr::map`:"
   ],
   "metadata": {
    "slideshow": {
     "slide_type": "slide"
    }
   }
  },
  {
   "cell_type": "code",
   "execution_count": null,
   "source": [
    "library(purrr)\n",
    "map(mtcars, median)"
   ],
   "outputs": [],
   "metadata": {
    "slideshow": {
     "slide_type": "fragment"
    }
   }
  },
  {
   "cell_type": "markdown",
   "source": [
    "That looks different from our `mds_map` function! The output is of type list."
   ],
   "metadata": {
    "slideshow": {
     "slide_type": "notes"
    }
   }
  },
  {
   "cell_type": "markdown",
   "source": [
    "### Choosing the `purrr::map*` function based on your desired output \n",
    "\n",
    "<img src=\"img/map_family.png\" width=900>\n",
    "\n",
    "*Source: [Advanced R](https://adv-r.hadley.nz/) by Hadley Wickham*"
   ],
   "metadata": {
    "slideshow": {
     "slide_type": "slide"
    }
   }
  },
  {
   "cell_type": "markdown",
   "source": [
    "### Trying again with `purrr::map_dbl`"
   ],
   "metadata": {
    "slideshow": {
     "slide_type": "slide"
    }
   }
  },
  {
   "cell_type": "code",
   "execution_count": null,
   "source": [
    "map_dbl(mtcars, median)"
   ],
   "outputs": [],
   "metadata": {
    "slideshow": {
     "slide_type": "fragment"
    }
   }
  },
  {
   "cell_type": "markdown",
   "source": [
    "### What if our data frame had missing values?\n",
    "\n",
    "Let's make some to see the consequences..."
   ],
   "metadata": {
    "slideshow": {
     "slide_type": "slide"
    }
   }
  },
  {
   "cell_type": "code",
   "execution_count": null,
   "source": [
    "mtcars_NA <- mtcars\n",
    "mtcars_NA[1, 1] <- NA\n",
    "\n",
    "map_dbl(mtcars_NA, median)"
   ],
   "outputs": [],
   "metadata": {
    "slideshow": {
     "slide_type": "fragment"
    }
   }
  },
  {
   "cell_type": "markdown",
   "source": [
    "`map_dbl` returns a vector of type double."
   ],
   "metadata": {
    "slideshow": {
     "slide_type": "fragment"
    }
   }
  },
  {
   "cell_type": "markdown",
   "source": [
    "How do we tell `median` to ignore NA's? Using `na.rm = TRUE`! But how do we add this to our `map_dbl` call?"
   ],
   "metadata": {
    "slideshow": {
     "slide_type": "fragment"
    }
   }
  },
  {
   "cell_type": "markdown",
   "source": [
    "### Solution!\n",
    "\n",
    "Creating an anonymous function within the `purrr::map_dbl` function!"
   ],
   "metadata": {
    "slideshow": {
     "slide_type": "slide"
    }
   }
  },
  {
   "cell_type": "code",
   "execution_count": null,
   "source": [
    "map_dbl(mtcars_NA, function(df) median(df, na.rm  = TRUE))"
   ],
   "outputs": [],
   "metadata": {
    "slideshow": {
     "slide_type": "fragment"
    }
   }
  },
  {
   "cell_type": "markdown",
   "source": [
    "> ### Aside: Anonymous functions in R\n",
    ">\n",
    "> General format: `function(x) body_of_function`\n",
    "> \n",
    "> To use one in the global environment, outside of another function call, you do the following:"
   ],
   "metadata": {
    "slideshow": {
     "slide_type": "notes"
    }
   }
  },
  {
   "cell_type": "code",
   "execution_count": null,
   "source": [
    "(function(x) x + 1)(1)"
   ],
   "outputs": [],
   "metadata": {
    "slideshow": {
     "slide_type": "notes"
    }
   }
  },
  {
   "cell_type": "markdown",
   "source": [
    "> Above the function takes in x as an argument and adds one to it. The function definition is surrounded by round brackets, as is the value being passed to the anonymous function."
   ],
   "metadata": {
    "slideshow": {
     "slide_type": "fragment"
    }
   }
  },
  {
   "cell_type": "markdown",
   "source": [
    "### Back to anonymous function calls within `purrr::map*`\n",
    "\n",
    "Long form:\n",
    "\n",
    "```\n",
    "map_dbl(mtcars_NA, function(df) median(df, na.rm  = TRUE))\n",
    "```\n"
   ],
   "metadata": {
    "slideshow": {
     "slide_type": "slide"
    }
   }
  },
  {
   "cell_type": "markdown",
   "source": [
    "Short form:"
   ],
   "metadata": {
    "slideshow": {
     "slide_type": "fragment"
    }
   }
  },
  {
   "cell_type": "code",
   "execution_count": null,
   "source": [
    "map_dbl(mtcars_NA, ~ median(., na.rm  = TRUE))"
   ],
   "outputs": [],
   "metadata": {
    "slideshow": {
     "slide_type": "fragment"
    }
   }
  },
  {
   "cell_type": "markdown",
   "source": [
    "In the shortcut we replace `function(VARIABLE)` with a `~` and replace the `VARIABLE` in the function call with a `.`"
   ],
   "metadata": {
    "slideshow": {
     "slide_type": "fragment"
    }
   }
  },
  {
   "cell_type": "markdown",
   "source": [
    "### Challenge 1:\n",
    "\n",
    "Use a `purrr::map` function to caclulate the variance (using `var`) of each of the numerical columns in the iris dataset. Return the object as a data frame. "
   ],
   "metadata": {
    "slideshow": {
     "slide_type": "slide"
    }
   }
  },
  {
   "cell_type": "markdown",
   "source": [
    "### Mapping with > 1 data objects\n",
    "\n",
    "What if the function you want to map takes in > 1 data objects?"
   ],
   "metadata": {
    "slideshow": {
     "slide_type": "slide"
    }
   }
  },
  {
   "cell_type": "markdown",
   "source": [
    "`map2*` and `pmap*` are your friends here!"
   ],
   "metadata": {
    "slideshow": {
     "slide_type": "fragment"
    }
   }
  },
  {
   "cell_type": "markdown",
   "source": [
    "### `purrr::map2*`\n",
    "\n",
    "```\n",
    "map2*(.x, .y, .f, ...)\n",
    "```\n",
    "\n",
    "Above reads as: `for` every element of `.x` and `.y` apply `.f` "
   ],
   "metadata": {
    "slideshow": {
     "slide_type": "slide"
    }
   }
  },
  {
   "cell_type": "markdown",
   "source": [
    "Or picture as..."
   ],
   "metadata": {
    "slideshow": {
     "slide_type": "fragment"
    }
   }
  },
  {
   "cell_type": "markdown",
   "source": [
    "<img src=\"img/minis_map2_data.png\" width=700>\n",
    "\n",
    "*Source: [purrr workshop](https://speakerdeck.com/jennybc/purrr-workshop) by Jenny Bryan*"
   ],
   "metadata": {
    "slideshow": {
     "slide_type": "slide"
    }
   }
  },
  {
   "cell_type": "markdown",
   "source": [
    "<img src=\"img/minis_map2.png\" width=700>\n",
    "\n",
    "*Source: [purrr workshop](https://speakerdeck.com/jennybc/purrr-workshop) by Jenny Bryan*"
   ],
   "metadata": {
    "slideshow": {
     "slide_type": "slide"
    }
   }
  },
  {
   "cell_type": "markdown",
   "source": [
    "### `purrr::map2_df` example:\n",
    "\n",
    "\n",
    "For example, say you want to calculate a weighted means (using `weighted.mean`) for columns of a data frame where you had another data frame containing those weights.\n",
    "\n",
    "Let's make some data:"
   ],
   "metadata": {
    "slideshow": {
     "slide_type": "slide"
    }
   }
  },
  {
   "cell_type": "code",
   "execution_count": null,
   "source": [
    "data <- tibble(frequency = runif(10),\n",
    "             loudness = runif(10),\n",
    "               power = runif(10),\n",
    "              rating = rpois(10, 5) + 1,\n",
    "                year = rpois(10, 5) + 1999)\n",
    "data[1, 1] <- NA\n",
    "data"
   ],
   "outputs": [],
   "metadata": {}
  },
  {
   "cell_type": "code",
   "execution_count": null,
   "source": [
    "library(dplyr, quietly = TRUE)\n",
    "data <- tibble(x1 = runif(10),\n",
    "               x2 = runif(10),\n",
    "               x3 = runif(10))\n",
    "data[1, 1] <- NA\n",
    "weights <- tibble(x1 = rpois(10, 5) + 1,\n",
    "                 x2 = rpois(10, 5) + 1,\n",
    "                 x3 = rpois(10, 5) + 1,)\n",
    "\n",
    "data\n",
    "weights"
   ],
   "outputs": [],
   "metadata": {
    "slideshow": {
     "slide_type": "fragment"
    }
   }
  },
  {
   "cell_type": "markdown",
   "source": [
    "### `purrr::map2_df` example:\n",
    "\n",
    "Let's use `map2_df` to calculate the weighted mean using these two data frames."
   ],
   "metadata": {
    "slideshow": {
     "slide_type": "slide"
    }
   }
  },
  {
   "cell_type": "code",
   "execution_count": null,
   "source": [
    "?weighted.mean"
   ],
   "outputs": [],
   "metadata": {
    "slideshow": {
     "slide_type": "fragment"
    }
   }
  },
  {
   "cell_type": "code",
   "execution_count": null,
   "source": [
    "map2_df(data, weights, weighted.mean)"
   ],
   "outputs": [],
   "metadata": {
    "slideshow": {
     "slide_type": "fragment"
    }
   }
  },
  {
   "cell_type": "markdown",
   "source": [
    "Ah! That NA got us again! We need to write this an an anonymous function so that we can pass in `na.rm = TRUE`"
   ],
   "metadata": {
    "slideshow": {
     "slide_type": "fragment"
    }
   }
  },
  {
   "cell_type": "markdown",
   "source": [
    "### `purrr::map2_df` example:\n",
    "\n",
    "Now using an anonymous function with the long form:"
   ],
   "metadata": {
    "slideshow": {
     "slide_type": "slide"
    }
   }
  },
  {
   "cell_type": "code",
   "execution_count": null,
   "source": [
    "map2_df(data, weights, function(x, y) weighted.mean(x, y, na.rm = TRUE))"
   ],
   "outputs": [],
   "metadata": {
    "slideshow": {
     "slide_type": "fragment"
    }
   }
  },
  {
   "cell_type": "markdown",
   "source": [
    "Now with the short form:"
   ],
   "metadata": {
    "slideshow": {
     "slide_type": "fragment"
    }
   }
  },
  {
   "cell_type": "code",
   "execution_count": null,
   "source": [
    "map2_df(data, weights, ~ weighted.mean(.x, .y, na.rm = TRUE))"
   ],
   "outputs": [],
   "metadata": {
    "slideshow": {
     "slide_type": "fragment"
    }
   }
  },
  {
   "cell_type": "markdown",
   "source": [
    "Not too bad eh! "
   ],
   "metadata": {
    "slideshow": {
     "slide_type": "fragment"
    }
   }
  },
  {
   "cell_type": "markdown",
   "source": [
    "### `purrr::map2*`\n",
    "\n",
    "Also, if `y` has less elements than `x`, it recycles `y`:\n",
    "\n",
    "<img src=\"https://d33wubrfki0l68.cloudfront.net/55032525ec77409e381dcd200a47e1787e65b964/dcaef/diagrams/functionals/map2-recycle.png\" width=400>"
   ],
   "metadata": {
    "slideshow": {
     "slide_type": "slide"
    }
   }
  },
  {
   "cell_type": "markdown",
   "source": [
    "This is most useful when y has only one element."
   ],
   "metadata": {
    "slideshow": {
     "slide_type": "fragment"
    }
   }
  },
  {
   "cell_type": "markdown",
   "source": [
    "### `purrr::pmap*`\n",
    "\n",
    "```\n",
    "pmap*(list(.x1, .x2, ... .xn), .f, ...)\n",
    "```\n",
    "\n",
    "Above reads as: `for` every element of in the **list** (that contains `.x1, .x2, ... .xn`) apply `.f` "
   ],
   "metadata": {
    "slideshow": {
     "slide_type": "slide"
    }
   }
  },
  {
   "cell_type": "markdown",
   "source": [
    "### Example of using `pmap_df` to calculate the weighted means:"
   ],
   "metadata": {
    "slideshow": {
     "slide_type": "slide"
    }
   }
  },
  {
   "cell_type": "code",
   "execution_count": null,
   "source": [
    "pmap_df(list(data, weights), ~ weighted.mean(.x, .y, na.rm = TRUE))"
   ],
   "outputs": [],
   "metadata": {
    "slideshow": {
     "slide_type": "fragment"
    }
   }
  },
  {
   "cell_type": "markdown",
   "source": [
    "But what happens when you have > 2 arguments?"
   ],
   "metadata": {
    "slideshow": {
     "slide_type": "fragment"
    }
   }
  },
  {
   "cell_type": "markdown",
   "source": [
    "### More than two arguments\n",
    "\n",
    "Without an anonymous function, works as so:"
   ],
   "metadata": {
    "slideshow": {
     "slide_type": "slide"
    }
   }
  },
  {
   "cell_type": "code",
   "execution_count": null,
   "source": [
    "f1 <- function(x, y, z) {\n",
    "    x + y + z\n",
    "}\n",
    "\n",
    "pmap_dbl(list(c(1, 1), c(1, 2), c(2, 2)), f1)"
   ],
   "outputs": [],
   "metadata": {
    "slideshow": {
     "slide_type": "fragment"
    }
   }
  },
  {
   "cell_type": "markdown",
   "source": [
    "If you want to use an anonymous function, then use `..1`, `..2`, `..3`, and so on to specify where the mapped objets go in your function:"
   ],
   "metadata": {
    "slideshow": {
     "slide_type": "slide"
    }
   }
  },
  {
   "cell_type": "code",
   "execution_count": null,
   "source": [
    "f2 <- function(x, y, z, a = 0) {\n",
    "    x + y + z + a\n",
    "}\n",
    "\n",
    "pmap_dbl(list(c(1, 1), c(1, 2), c(2, 2)), ~ f2(..1, ..2, ..3, a = -1))"
   ],
   "outputs": [],
   "metadata": {
    "slideshow": {
     "slide_type": "fragment"
    }
   }
  },
  {
   "cell_type": "markdown",
   "source": [
    "We only used two inputs to our function here, but we can use any number with `pmap`, we just need to add them to our list!"
   ],
   "metadata": {
    "slideshow": {
     "slide_type": "fragment"
    }
   }
  },
  {
   "cell_type": "markdown",
   "source": [
    "### Want to iterate row-wise, instead of column-wise?\n",
    "\n",
    "Here you can use `purrr::pmap` on a single data frame!\n",
    "\n",
    "This: ```purrr::pmap(df, .f)```\n",
    "\n",
    "reads as: `for` every tuple in `.l` (*i.e.*, each row of `df`) apply `.f`"
   ],
   "metadata": {
    "slideshow": {
     "slide_type": "slide"
    }
   }
  },
  {
   "cell_type": "markdown",
   "source": [
    "The key point is that `pmap()` iterates over tuples = the collection of `i`-th elements of `k` lists. A data frame row is an interesting special case."
   ],
   "metadata": {
    "slideshow": {
     "slide_type": "fragment"
    }
   }
  },
  {
   "cell_type": "markdown",
   "source": [
    "### Here's an example of row-wise iteration \n",
    "\n",
    "Here we calculate the sum for each row in the `mtcars` data frame:"
   ],
   "metadata": {
    "slideshow": {
     "slide_type": "slide"
    }
   }
  },
  {
   "cell_type": "code",
   "execution_count": null,
   "source": [
    "pmap(mtcars, sum)"
   ],
   "outputs": [],
   "metadata": {
    "slideshow": {
     "slide_type": "fragment"
    }
   }
  },
  {
   "cell_type": "markdown",
   "source": [
    "### What about mapping over groups of rows???\n",
    "\n",
    "There are two strategies we will learn in the Data Wrangling course next block:\n",
    "- `dplyr::group_by` + `dplyr::summarize`\n",
    "- `dplyr::group_by` + `tidyr::nest`"
   ],
   "metadata": {
    "slideshow": {
     "slide_type": "slide"
    }
   }
  },
  {
   "cell_type": "markdown",
   "source": [
    "### What did we learn today?\n",
    "\n",
    "- \n",
    "\n",
    "- \n",
    "\n",
    "- \n"
   ],
   "metadata": {}
  },
  {
   "cell_type": "markdown",
   "source": [
    "### Attribution\n",
    "\n",
    "- [Advanced R](https://adv-r.hadley.nz/) by Hadley Wickham\n",
    "- [Jenny Bryan's `purrr` tutorial](https://jennybc.github.io/purrr-tutorial/index.html)"
   ],
   "metadata": {
    "slideshow": {
     "slide_type": "slide"
    }
   }
  }
 ],
 "metadata": {
  "celltoolbar": "Slideshow",
  "kernelspec": {
   "display_name": "R",
   "language": "R",
   "name": "ir"
  },
  "language_info": {
   "codemirror_mode": "r",
   "file_extension": ".r",
   "mimetype": "text/x-r-source",
   "name": "R",
   "pygments_lexer": "r",
   "version": "4.0.2"
  }
 },
 "nbformat": 4,
 "nbformat_minor": 2
}